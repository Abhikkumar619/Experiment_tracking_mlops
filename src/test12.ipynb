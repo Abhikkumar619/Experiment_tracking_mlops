{
 "cells": [
  {
   "cell_type": "code",
   "execution_count": 1,
   "metadata": {},
   "outputs": [],
   "source": [
    "from sklearn.model_selection import GridSearchCV\n",
    "from sklearn.ensemble import RandomForestClassifier\n",
    "from sklearn.model_selection import train_test_split\n",
    "from sklearn.datasets import load_breast_cancer\n",
    "import pandas as pd\n",
    "import mlflow"
   ]
  },
  {
   "cell_type": "code",
   "execution_count": 2,
   "metadata": {},
   "outputs": [],
   "source": [
    "# Load the Breast Cancer dataset\n",
    "data = load_breast_cancer()\n",
    "X = pd.DataFrame(data.data, columns=data.feature_names)\n",
    "y = pd.Series(data.target, name='target')\n",
    "# Splitting into training and testing sets\n",
    "X_train, X_test, y_train, y_test = train_test_split(X, y, test_size=0.2, random_state=42)\n",
    "\n",
    "# Creating the RandomForestClassifier model\n",
    "rf = RandomForestClassifier(random_state=42)\n",
    "\n",
    "# Defining the parameter grid for GridSearchCV\n",
    "param_grid = {\n",
    "    'n_estimators': [10, 50, 100],\n",
    "    'max_depth': [None, 10, 20, 30]\n",
    "}"
   ]
  },
  {
   "cell_type": "code",
   "execution_count": 3,
   "metadata": {},
   "outputs": [],
   "source": [
    "grid_search = GridSearchCV(estimator=rf, param_grid=param_grid, cv=5, n_jobs=-1, verbose=2)\n"
   ]
  },
  {
   "cell_type": "code",
   "execution_count": 13,
   "metadata": {},
   "outputs": [
    {
     "name": "stdout",
     "output_type": "stream",
     "text": [
      "Fitting 5 folds for each of 12 candidates, totalling 60 fits\n",
      "[CV] END ....................max_depth=None, n_estimators=10; total time=   0.0s\n",
      "[CV] END ....................max_depth=None, n_estimators=10; total time=   0.0s\n",
      "[CV] END ....................max_depth=None, n_estimators=10; total time=   0.0s\n",
      "[CV] END ....................max_depth=None, n_estimators=10; total time=   0.0s\n",
      "[CV] END ....................max_depth=None, n_estimators=10; total time=   0.0s\n",
      "[CV] END ....................max_depth=None, n_estimators=50; total time=   0.1s\n",
      "[CV] END ....................max_depth=None, n_estimators=50; total time=   0.2s\n",
      "[CV] END ....................max_depth=None, n_estimators=50; total time=   0.2s\n",
      "[CV] END ....................max_depth=None, n_estimators=50; total time=   0.2s\n",
      "[CV] END ......................max_depth=10, n_estimators=10; total time=   0.0s\n",
      "[CV] END ......................max_depth=10, n_estimators=10; total time=   0.0s\n",
      "[CV] END ...................max_depth=None, n_estimators=100; total time=   0.3s\n",
      "[CV] END ...................max_depth=None, n_estimators=100; total time=   0.2s\n",
      "[CV] END ......................max_depth=10, n_estimators=10; total time=   0.0s\n",
      "[CV] END ...................max_depth=None, n_estimators=100; total time=   0.3s\n",
      "[CV] END ......................max_depth=10, n_estimators=10; total time=   0.0s\n",
      "[CV] END ......................max_depth=10, n_estimators=10; total time=   0.0s\n",
      "[CV] END ....................max_depth=None, n_estimators=50; total time=   0.2s\n",
      "[CV] END ...................max_depth=None, n_estimators=100; total time=   0.2s\n",
      "[CV] END ......................max_depth=10, n_estimators=50; total time=   0.1s\n",
      "[CV] END ......................max_depth=10, n_estimators=50; total time=   0.1s[CV] END ......................max_depth=10, n_estimators=50; total time=   0.1s\n",
      "\n",
      "[CV] END ......................max_depth=10, n_estimators=50; total time=   0.1s\n",
      "[CV] END ......................max_depth=10, n_estimators=50; total time=   0.1s\n",
      "[CV] END ......................max_depth=20, n_estimators=10; total time=   0.0s\n",
      "[CV] END ......................max_depth=20, n_estimators=10; total time=   0.0s\n",
      "[CV] END ......................max_depth=20, n_estimators=10; total time=   0.0s\n",
      "[CV] END ......................max_depth=20, n_estimators=10; total time=   0.0s\n",
      "[CV] END ......................max_depth=20, n_estimators=10; total time=   0.0s\n",
      "[CV] END ...................max_depth=None, n_estimators=100; total time=   0.4s\n",
      "[CV] END .....................max_depth=10, n_estimators=100; total time=   0.2s\n",
      "[CV] END .....................max_depth=10, n_estimators=100; total time=   0.2s\n",
      "[CV] END .....................max_depth=10, n_estimators=100; total time=   0.2s\n",
      "[CV] END ......................max_depth=20, n_estimators=50; total time=   0.1s\n",
      "[CV] END .....................max_depth=10, n_estimators=100; total time=   0.3s\n",
      "[CV] END ......................max_depth=20, n_estimators=50; total time=   0.1s\n",
      "[CV] END .....................max_depth=10, n_estimators=100; total time=   0.3s\n",
      "[CV] END ......................max_depth=20, n_estimators=50; total time=   0.1s\n",
      "[CV] END ......................max_depth=20, n_estimators=50; total time=   0.1s\n",
      "[CV] END ......................max_depth=30, n_estimators=10; total time=   0.0s\n",
      "[CV] END ......................max_depth=20, n_estimators=50; total time=   0.1s\n",
      "[CV] END ......................max_depth=30, n_estimators=10; total time=   0.0s\n",
      "[CV] END ......................max_depth=30, n_estimators=10; total time=   0.0s\n",
      "[CV] END ......................max_depth=30, n_estimators=10; total time=   0.0s\n",
      "[CV] END ......................max_depth=30, n_estimators=10; total time=   0.0s\n",
      "[CV] END .....................max_depth=20, n_estimators=100; total time=   0.2s\n",
      "[CV] END ......................max_depth=30, n_estimators=50; total time=   0.1s\n",
      "[CV] END ......................max_depth=30, n_estimators=50; total time=   0.1s\n",
      "[CV] END ......................max_depth=30, n_estimators=50; total time=   0.1s\n",
      "[CV] END .....................max_depth=20, n_estimators=100; total time=   0.2s\n",
      "[CV] END .....................max_depth=20, n_estimators=100; total time=   0.2s\n",
      "[CV] END .....................max_depth=20, n_estimators=100; total time=   0.2s\n",
      "[CV] END ......................max_depth=30, n_estimators=50; total time=   0.1s\n",
      "[CV] END ......................max_depth=30, n_estimators=50; total time=   0.1s\n",
      "[CV] END .....................max_depth=20, n_estimators=100; total time=   0.4s\n",
      "[CV] END .....................max_depth=30, n_estimators=100; total time=   0.2s\n",
      "[CV] END .....................max_depth=30, n_estimators=100; total time=   0.2s\n",
      "[CV] END .....................max_depth=30, n_estimators=100; total time=   0.2s\n",
      "[CV] END .....................max_depth=30, n_estimators=100; total time=   0.2s\n",
      "[CV] END .....................max_depth=30, n_estimators=100; total time=   0.2s\n"
     ]
    },
    {
     "data": {
      "text/html": [
       "<style>#sk-container-id-3 {color: black;}#sk-container-id-3 pre{padding: 0;}#sk-container-id-3 div.sk-toggleable {background-color: white;}#sk-container-id-3 label.sk-toggleable__label {cursor: pointer;display: block;width: 100%;margin-bottom: 0;padding: 0.3em;box-sizing: border-box;text-align: center;}#sk-container-id-3 label.sk-toggleable__label-arrow:before {content: \"▸\";float: left;margin-right: 0.25em;color: #696969;}#sk-container-id-3 label.sk-toggleable__label-arrow:hover:before {color: black;}#sk-container-id-3 div.sk-estimator:hover label.sk-toggleable__label-arrow:before {color: black;}#sk-container-id-3 div.sk-toggleable__content {max-height: 0;max-width: 0;overflow: hidden;text-align: left;background-color: #f0f8ff;}#sk-container-id-3 div.sk-toggleable__content pre {margin: 0.2em;color: black;border-radius: 0.25em;background-color: #f0f8ff;}#sk-container-id-3 input.sk-toggleable__control:checked~div.sk-toggleable__content {max-height: 200px;max-width: 100%;overflow: auto;}#sk-container-id-3 input.sk-toggleable__control:checked~label.sk-toggleable__label-arrow:before {content: \"▾\";}#sk-container-id-3 div.sk-estimator input.sk-toggleable__control:checked~label.sk-toggleable__label {background-color: #d4ebff;}#sk-container-id-3 div.sk-label input.sk-toggleable__control:checked~label.sk-toggleable__label {background-color: #d4ebff;}#sk-container-id-3 input.sk-hidden--visually {border: 0;clip: rect(1px 1px 1px 1px);clip: rect(1px, 1px, 1px, 1px);height: 1px;margin: -1px;overflow: hidden;padding: 0;position: absolute;width: 1px;}#sk-container-id-3 div.sk-estimator {font-family: monospace;background-color: #f0f8ff;border: 1px dotted black;border-radius: 0.25em;box-sizing: border-box;margin-bottom: 0.5em;}#sk-container-id-3 div.sk-estimator:hover {background-color: #d4ebff;}#sk-container-id-3 div.sk-parallel-item::after {content: \"\";width: 100%;border-bottom: 1px solid gray;flex-grow: 1;}#sk-container-id-3 div.sk-label:hover label.sk-toggleable__label {background-color: #d4ebff;}#sk-container-id-3 div.sk-serial::before {content: \"\";position: absolute;border-left: 1px solid gray;box-sizing: border-box;top: 0;bottom: 0;left: 50%;z-index: 0;}#sk-container-id-3 div.sk-serial {display: flex;flex-direction: column;align-items: center;background-color: white;padding-right: 0.2em;padding-left: 0.2em;position: relative;}#sk-container-id-3 div.sk-item {position: relative;z-index: 1;}#sk-container-id-3 div.sk-parallel {display: flex;align-items: stretch;justify-content: center;background-color: white;position: relative;}#sk-container-id-3 div.sk-item::before, #sk-container-id-3 div.sk-parallel-item::before {content: \"\";position: absolute;border-left: 1px solid gray;box-sizing: border-box;top: 0;bottom: 0;left: 50%;z-index: -1;}#sk-container-id-3 div.sk-parallel-item {display: flex;flex-direction: column;z-index: 1;position: relative;background-color: white;}#sk-container-id-3 div.sk-parallel-item:first-child::after {align-self: flex-end;width: 50%;}#sk-container-id-3 div.sk-parallel-item:last-child::after {align-self: flex-start;width: 50%;}#sk-container-id-3 div.sk-parallel-item:only-child::after {width: 0;}#sk-container-id-3 div.sk-dashed-wrapped {border: 1px dashed gray;margin: 0 0.4em 0.5em 0.4em;box-sizing: border-box;padding-bottom: 0.4em;background-color: white;}#sk-container-id-3 div.sk-label label {font-family: monospace;font-weight: bold;display: inline-block;line-height: 1.2em;}#sk-container-id-3 div.sk-label-container {text-align: center;}#sk-container-id-3 div.sk-container {/* jupyter's `normalize.less` sets `[hidden] { display: none; }` but bootstrap.min.css set `[hidden] { display: none !important; }` so we also need the `!important` here to be able to override the default hidden behavior on the sphinx rendered scikit-learn.org. See: https://github.com/scikit-learn/scikit-learn/issues/21755 */display: inline-block !important;position: relative;}#sk-container-id-3 div.sk-text-repr-fallback {display: none;}</style><div id=\"sk-container-id-3\" class=\"sk-top-container\"><div class=\"sk-text-repr-fallback\"><pre>GridSearchCV(cv=5, estimator=RandomForestClassifier(random_state=42), n_jobs=-1,\n",
       "             param_grid={&#x27;max_depth&#x27;: [None, 10, 20, 30],\n",
       "                         &#x27;n_estimators&#x27;: [10, 50, 100]},\n",
       "             verbose=2)</pre><b>In a Jupyter environment, please rerun this cell to show the HTML representation or trust the notebook. <br />On GitHub, the HTML representation is unable to render, please try loading this page with nbviewer.org.</b></div><div class=\"sk-container\" hidden><div class=\"sk-item sk-dashed-wrapped\"><div class=\"sk-label-container\"><div class=\"sk-label sk-toggleable\"><input class=\"sk-toggleable__control sk-hidden--visually\" id=\"sk-estimator-id-7\" type=\"checkbox\" ><label for=\"sk-estimator-id-7\" class=\"sk-toggleable__label sk-toggleable__label-arrow\">GridSearchCV</label><div class=\"sk-toggleable__content\"><pre>GridSearchCV(cv=5, estimator=RandomForestClassifier(random_state=42), n_jobs=-1,\n",
       "             param_grid={&#x27;max_depth&#x27;: [None, 10, 20, 30],\n",
       "                         &#x27;n_estimators&#x27;: [10, 50, 100]},\n",
       "             verbose=2)</pre></div></div></div><div class=\"sk-parallel\"><div class=\"sk-parallel-item\"><div class=\"sk-item\"><div class=\"sk-label-container\"><div class=\"sk-label sk-toggleable\"><input class=\"sk-toggleable__control sk-hidden--visually\" id=\"sk-estimator-id-8\" type=\"checkbox\" ><label for=\"sk-estimator-id-8\" class=\"sk-toggleable__label sk-toggleable__label-arrow\">estimator: RandomForestClassifier</label><div class=\"sk-toggleable__content\"><pre>RandomForestClassifier(random_state=42)</pre></div></div></div><div class=\"sk-serial\"><div class=\"sk-item\"><div class=\"sk-estimator sk-toggleable\"><input class=\"sk-toggleable__control sk-hidden--visually\" id=\"sk-estimator-id-9\" type=\"checkbox\" ><label for=\"sk-estimator-id-9\" class=\"sk-toggleable__label sk-toggleable__label-arrow\">RandomForestClassifier</label><div class=\"sk-toggleable__content\"><pre>RandomForestClassifier(random_state=42)</pre></div></div></div></div></div></div></div></div></div></div>"
      ],
      "text/plain": [
       "GridSearchCV(cv=5, estimator=RandomForestClassifier(random_state=42), n_jobs=-1,\n",
       "             param_grid={'max_depth': [None, 10, 20, 30],\n",
       "                         'n_estimators': [10, 50, 100]},\n",
       "             verbose=2)"
      ]
     },
     "execution_count": 13,
     "metadata": {},
     "output_type": "execute_result"
    }
   ],
   "source": [
    "grid_search.fit(X_train, y_train)"
   ]
  },
  {
   "cell_type": "code",
   "execution_count": 19,
   "metadata": {},
   "outputs": [
    {
     "data": {
      "text/plain": [
       "[{'max_depth': None, 'n_estimators': 10},\n",
       " {'max_depth': None, 'n_estimators': 50},\n",
       " {'max_depth': None, 'n_estimators': 100},\n",
       " {'max_depth': 10, 'n_estimators': 10},\n",
       " {'max_depth': 10, 'n_estimators': 50},\n",
       " {'max_depth': 10, 'n_estimators': 100},\n",
       " {'max_depth': 20, 'n_estimators': 10},\n",
       " {'max_depth': 20, 'n_estimators': 50},\n",
       " {'max_depth': 20, 'n_estimators': 100},\n",
       " {'max_depth': 30, 'n_estimators': 10},\n",
       " {'max_depth': 30, 'n_estimators': 50},\n",
       " {'max_depth': 30, 'n_estimators': 100}]"
      ]
     },
     "execution_count": 19,
     "metadata": {},
     "output_type": "execute_result"
    }
   ],
   "source": [
    "grid_search.cv_results_['params']"
   ]
  },
  {
   "cell_type": "code",
   "execution_count": 21,
   "metadata": {},
   "outputs": [
    {
     "data": {
      "text/plain": [
       "{'max_depth': None, 'n_estimators': 50}"
      ]
     },
     "execution_count": 21,
     "metadata": {},
     "output_type": "execute_result"
    }
   ],
   "source": [
    "grid_search.cv_results_['params'][1]"
   ]
  },
  {
   "cell_type": "code",
   "execution_count": 20,
   "metadata": {},
   "outputs": [
    {
     "data": {
      "text/plain": [
       "array([0.93186813, 0.95384615, 0.95824176, 0.93186813, 0.95384615,\n",
       "       0.95824176, 0.93186813, 0.95384615, 0.95824176, 0.93186813,\n",
       "       0.95384615, 0.95824176])"
      ]
     },
     "execution_count": 20,
     "metadata": {},
     "output_type": "execute_result"
    }
   ],
   "source": [
    "grid_search.cv_results_['mean_test_score']"
   ]
  },
  {
   "cell_type": "code",
   "execution_count": 16,
   "metadata": {},
   "outputs": [
    {
     "data": {
      "text/plain": [
       "{'mean_fit_time': array([0.03153296, 0.15016222, 0.27661319, 0.03724456, 0.1245358 ,\n",
       "        0.22653737, 0.02906361, 0.12415833, 0.25028124, 0.02330403,\n",
       "        0.10261817, 0.21784   ]),\n",
       " 'std_fit_time': array([0.00302029, 0.00886515, 0.07438552, 0.00161451, 0.00845379,\n",
       "        0.0239249 , 0.00307621, 0.0038278 , 0.05467711, 0.00501224,\n",
       "        0.00582935, 0.00599469]),\n",
       " 'mean_score_time': array([0.00394464, 0.00877161, 0.01208763, 0.00525208, 0.00798273,\n",
       "        0.01307364, 0.00417161, 0.00655241, 0.01016402, 0.00481186,\n",
       "        0.00523906, 0.00711203]),\n",
       " 'std_score_time': array([0.0007122 , 0.00210291, 0.00679986, 0.00241712, 0.003115  ,\n",
       "        0.00465779, 0.00121495, 0.0011171 , 0.00227033, 0.00319497,\n",
       "        0.00043846, 0.00033582]),\n",
       " 'param_max_depth': masked_array(data=[None, None, None, 10, 10, 10, 20, 20, 20, 30, 30, 30],\n",
       "              mask=[False, False, False, False, False, False, False, False,\n",
       "                    False, False, False, False],\n",
       "        fill_value='?',\n",
       "             dtype=object),\n",
       " 'param_n_estimators': masked_array(data=[10, 50, 100, 10, 50, 100, 10, 50, 100, 10, 50, 100],\n",
       "              mask=[False, False, False, False, False, False, False, False,\n",
       "                    False, False, False, False],\n",
       "        fill_value='?',\n",
       "             dtype=object),\n",
       " 'params': [{'max_depth': None, 'n_estimators': 10},\n",
       "  {'max_depth': None, 'n_estimators': 50},\n",
       "  {'max_depth': None, 'n_estimators': 100},\n",
       "  {'max_depth': 10, 'n_estimators': 10},\n",
       "  {'max_depth': 10, 'n_estimators': 50},\n",
       "  {'max_depth': 10, 'n_estimators': 100},\n",
       "  {'max_depth': 20, 'n_estimators': 10},\n",
       "  {'max_depth': 20, 'n_estimators': 50},\n",
       "  {'max_depth': 20, 'n_estimators': 100},\n",
       "  {'max_depth': 30, 'n_estimators': 10},\n",
       "  {'max_depth': 30, 'n_estimators': 50},\n",
       "  {'max_depth': 30, 'n_estimators': 100}],\n",
       " 'split0_test_score': array([0.9010989 , 0.93406593, 0.97802198, 0.9010989 , 0.93406593,\n",
       "        0.97802198, 0.9010989 , 0.93406593, 0.97802198, 0.9010989 ,\n",
       "        0.93406593, 0.97802198]),\n",
       " 'split1_test_score': array([0.92307692, 0.94505495, 0.94505495, 0.92307692, 0.94505495,\n",
       "        0.94505495, 0.92307692, 0.94505495, 0.94505495, 0.92307692,\n",
       "        0.94505495, 0.94505495]),\n",
       " 'split2_test_score': array([0.97802198, 0.97802198, 0.97802198, 0.97802198, 0.97802198,\n",
       "        0.97802198, 0.97802198, 0.97802198, 0.97802198, 0.97802198,\n",
       "        0.97802198, 0.97802198]),\n",
       " 'split3_test_score': array([0.94505495, 0.95604396, 0.95604396, 0.94505495, 0.95604396,\n",
       "        0.95604396, 0.94505495, 0.95604396, 0.95604396, 0.94505495,\n",
       "        0.95604396, 0.95604396]),\n",
       " 'split4_test_score': array([0.91208791, 0.95604396, 0.93406593, 0.91208791, 0.95604396,\n",
       "        0.93406593, 0.91208791, 0.95604396, 0.93406593, 0.91208791,\n",
       "        0.95604396, 0.93406593]),\n",
       " 'mean_test_score': array([0.93186813, 0.95384615, 0.95824176, 0.93186813, 0.95384615,\n",
       "        0.95824176, 0.93186813, 0.95384615, 0.95824176, 0.93186813,\n",
       "        0.95384615, 0.95824176]),\n",
       " 'std_test_score': array([0.02727401, 0.01457857, 0.01758242, 0.02727401, 0.01457857,\n",
       "        0.01758242, 0.02727401, 0.01457857, 0.01758242, 0.02727401,\n",
       "        0.01457857, 0.01758242]),\n",
       " 'rank_test_score': array([9, 5, 1, 9, 5, 1, 9, 5, 1, 9, 5, 1], dtype=int32)}"
      ]
     },
     "execution_count": 16,
     "metadata": {},
     "output_type": "execute_result"
    }
   ],
   "source": [
    "grid_search.cv_results_"
   ]
  },
  {
   "cell_type": "code",
   "execution_count": 22,
   "metadata": {},
   "outputs": [
    {
     "data": {
      "text/html": [
       "<style>#sk-container-id-4 {color: black;}#sk-container-id-4 pre{padding: 0;}#sk-container-id-4 div.sk-toggleable {background-color: white;}#sk-container-id-4 label.sk-toggleable__label {cursor: pointer;display: block;width: 100%;margin-bottom: 0;padding: 0.3em;box-sizing: border-box;text-align: center;}#sk-container-id-4 label.sk-toggleable__label-arrow:before {content: \"▸\";float: left;margin-right: 0.25em;color: #696969;}#sk-container-id-4 label.sk-toggleable__label-arrow:hover:before {color: black;}#sk-container-id-4 div.sk-estimator:hover label.sk-toggleable__label-arrow:before {color: black;}#sk-container-id-4 div.sk-toggleable__content {max-height: 0;max-width: 0;overflow: hidden;text-align: left;background-color: #f0f8ff;}#sk-container-id-4 div.sk-toggleable__content pre {margin: 0.2em;color: black;border-radius: 0.25em;background-color: #f0f8ff;}#sk-container-id-4 input.sk-toggleable__control:checked~div.sk-toggleable__content {max-height: 200px;max-width: 100%;overflow: auto;}#sk-container-id-4 input.sk-toggleable__control:checked~label.sk-toggleable__label-arrow:before {content: \"▾\";}#sk-container-id-4 div.sk-estimator input.sk-toggleable__control:checked~label.sk-toggleable__label {background-color: #d4ebff;}#sk-container-id-4 div.sk-label input.sk-toggleable__control:checked~label.sk-toggleable__label {background-color: #d4ebff;}#sk-container-id-4 input.sk-hidden--visually {border: 0;clip: rect(1px 1px 1px 1px);clip: rect(1px, 1px, 1px, 1px);height: 1px;margin: -1px;overflow: hidden;padding: 0;position: absolute;width: 1px;}#sk-container-id-4 div.sk-estimator {font-family: monospace;background-color: #f0f8ff;border: 1px dotted black;border-radius: 0.25em;box-sizing: border-box;margin-bottom: 0.5em;}#sk-container-id-4 div.sk-estimator:hover {background-color: #d4ebff;}#sk-container-id-4 div.sk-parallel-item::after {content: \"\";width: 100%;border-bottom: 1px solid gray;flex-grow: 1;}#sk-container-id-4 div.sk-label:hover label.sk-toggleable__label {background-color: #d4ebff;}#sk-container-id-4 div.sk-serial::before {content: \"\";position: absolute;border-left: 1px solid gray;box-sizing: border-box;top: 0;bottom: 0;left: 50%;z-index: 0;}#sk-container-id-4 div.sk-serial {display: flex;flex-direction: column;align-items: center;background-color: white;padding-right: 0.2em;padding-left: 0.2em;position: relative;}#sk-container-id-4 div.sk-item {position: relative;z-index: 1;}#sk-container-id-4 div.sk-parallel {display: flex;align-items: stretch;justify-content: center;background-color: white;position: relative;}#sk-container-id-4 div.sk-item::before, #sk-container-id-4 div.sk-parallel-item::before {content: \"\";position: absolute;border-left: 1px solid gray;box-sizing: border-box;top: 0;bottom: 0;left: 50%;z-index: -1;}#sk-container-id-4 div.sk-parallel-item {display: flex;flex-direction: column;z-index: 1;position: relative;background-color: white;}#sk-container-id-4 div.sk-parallel-item:first-child::after {align-self: flex-end;width: 50%;}#sk-container-id-4 div.sk-parallel-item:last-child::after {align-self: flex-start;width: 50%;}#sk-container-id-4 div.sk-parallel-item:only-child::after {width: 0;}#sk-container-id-4 div.sk-dashed-wrapped {border: 1px dashed gray;margin: 0 0.4em 0.5em 0.4em;box-sizing: border-box;padding-bottom: 0.4em;background-color: white;}#sk-container-id-4 div.sk-label label {font-family: monospace;font-weight: bold;display: inline-block;line-height: 1.2em;}#sk-container-id-4 div.sk-label-container {text-align: center;}#sk-container-id-4 div.sk-container {/* jupyter's `normalize.less` sets `[hidden] { display: none; }` but bootstrap.min.css set `[hidden] { display: none !important; }` so we also need the `!important` here to be able to override the default hidden behavior on the sphinx rendered scikit-learn.org. See: https://github.com/scikit-learn/scikit-learn/issues/21755 */display: inline-block !important;position: relative;}#sk-container-id-4 div.sk-text-repr-fallback {display: none;}</style><div id=\"sk-container-id-4\" class=\"sk-top-container\"><div class=\"sk-text-repr-fallback\"><pre>RandomForestClassifier(random_state=42)</pre><b>In a Jupyter environment, please rerun this cell to show the HTML representation or trust the notebook. <br />On GitHub, the HTML representation is unable to render, please try loading this page with nbviewer.org.</b></div><div class=\"sk-container\" hidden><div class=\"sk-item\"><div class=\"sk-estimator sk-toggleable\"><input class=\"sk-toggleable__control sk-hidden--visually\" id=\"sk-estimator-id-10\" type=\"checkbox\" checked><label for=\"sk-estimator-id-10\" class=\"sk-toggleable__label sk-toggleable__label-arrow\">RandomForestClassifier</label><div class=\"sk-toggleable__content\"><pre>RandomForestClassifier(random_state=42)</pre></div></div></div></div></div>"
      ],
      "text/plain": [
       "RandomForestClassifier(random_state=42)"
      ]
     },
     "execution_count": 22,
     "metadata": {},
     "output_type": "execute_result"
    }
   ],
   "source": [
    "grid_search.best_estimator_"
   ]
  },
  {
   "cell_type": "code",
   "execution_count": null,
   "metadata": {},
   "outputs": [],
   "source": []
  }
 ],
 "metadata": {
  "kernelspec": {
   "display_name": "Python 3",
   "language": "python",
   "name": "python3"
  },
  "language_info": {
   "codemirror_mode": {
    "name": "ipython",
    "version": 3
   },
   "file_extension": ".py",
   "mimetype": "text/x-python",
   "name": "python",
   "nbconvert_exporter": "python",
   "pygments_lexer": "ipython3",
   "version": "3.8.18"
  }
 },
 "nbformat": 4,
 "nbformat_minor": 2
}
